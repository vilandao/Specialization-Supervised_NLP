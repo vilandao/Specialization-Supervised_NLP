{
 "cells": [
  {
   "cell_type": "code",
   "execution_count": 2,
   "metadata": {},
   "outputs": [
    {
     "name": "stdout",
     "output_type": "stream",
     "text": [
      "Collecting markovify\n",
      "  Downloading markovify-0.8.0.tar.gz (18 kB)\n",
      "Collecting unidecode\n",
      "  Downloading Unidecode-1.1.1-py2.py3-none-any.whl (238 kB)\n",
      "\u001b[K     |████████████████████████████████| 238 kB 3.8 MB/s eta 0:00:01\n",
      "\u001b[?25hBuilding wheels for collected packages: markovify\n",
      "  Building wheel for markovify (setup.py) ... \u001b[?25ldone\n",
      "\u001b[?25h  Created wheel for markovify: filename=markovify-0.8.0-py3-none-any.whl size=10694 sha256=d15180bb7b207611978685810702fdd396fc6d071898612deed59109d74256e8\n",
      "  Stored in directory: /Users/vilandao/Library/Caches/pip/wheels/05/96/15/0ded02d3a0dddbc64202c8206791bda22af3d90e0fc1eaf056\n",
      "Successfully built markovify\n",
      "Installing collected packages: unidecode, markovify\n",
      "Successfully installed markovify-0.8.0 unidecode-1.1.1\n",
      "Note: you may need to restart the kernel to use updated packages.\n"
     ]
    }
   ],
   "source": [
    "pip install markovify"
   ]
  },
  {
   "cell_type": "code",
   "execution_count": 4,
   "metadata": {
    "scrolled": true
   },
   "outputs": [
    {
     "name": "stdout",
     "output_type": "stream",
     "text": [
      "Collecting en_core_web_sm==2.1.0\n",
      "  Downloading https://github.com/explosion/spacy-models/releases/download/en_core_web_sm-2.1.0/en_core_web_sm-2.1.0.tar.gz (11.1 MB)\n",
      "\u001b[K     |████████████████████████████████| 11.1 MB 897 kB/s eta 0:00:01\n",
      "\u001b[?25hBuilding wheels for collected packages: en-core-web-sm\n",
      "  Building wheel for en-core-web-sm (setup.py) ... \u001b[?25ldone\n",
      "\u001b[?25h  Created wheel for en-core-web-sm: filename=en_core_web_sm-2.1.0-py3-none-any.whl size=11074433 sha256=7b3207dea4680ec25117f593eb6128a723f002f3c6e16ffdf7b71d175d37603d\n",
      "  Stored in directory: /private/var/folders/qn/pvcvvqz50ys5skppg1_5zj280000gn/T/pip-ephem-wheel-cache-y41oo637/wheels/59/4f/8c/0dbaab09a776d1fa3740e9465078bfd903cc22f3985382b496\n",
      "Successfully built en-core-web-sm\n",
      "Installing collected packages: en-core-web-sm\n",
      "  Attempting uninstall: en-core-web-sm\n",
      "    Found existing installation: en-core-web-sm 2.2.5\n",
      "    Uninstalling en-core-web-sm-2.2.5:\n",
      "      Successfully uninstalled en-core-web-sm-2.2.5\n",
      "Successfully installed en-core-web-sm-2.1.0\n",
      "\u001b[38;5;2m✔ Download and installation successful\u001b[0m\n",
      "You can now load the model via spacy.load('en_core_web_sm')\n",
      "\u001b[38;5;2m✔ Linking successful\u001b[0m\n",
      "/Users/vilandao/opt/anaconda3/lib/python3.7/site-packages/en_core_web_sm -->\n",
      "/Users/vilandao/opt/anaconda3/lib/python3.7/site-packages/spacy/data/en\n",
      "You can now load the model via spacy.load('en')\n"
     ]
    }
   ],
   "source": [
    "# Import libraries:\n",
    "import matplotlib.pyplot as plt\n",
    "import pandas as pd\n",
    "from sqlalchemy import create_engine\n",
    "import spacy\n",
    "import markovify\n",
    "\n",
    "import warnings\n",
    "warnings.filterwarnings(action=\"ignore\")\n",
    "\n",
    "!python -m spacy download en"
   ]
  },
  {
   "cell_type": "code",
   "execution_count": 5,
   "metadata": {},
   "outputs": [],
   "source": [
    "# Connect to the database to pull the data\n",
    "postgres_user = 'dsbc_student'\n",
    "postgres_pw = '7*.8G9QH21'\n",
    "postgres_host = '142.93.121.174'\n",
    "postgres_port = '5432'\n",
    "postgres_db = 'twitter_sentiment'\n",
    "\n",
    "# Create engine to connect to the dataset\n",
    "engine = create_engine('postgresql://{}:{}@{}:{}/{}'.format(\n",
    "    postgres_user, postgres_pw, postgres_host, postgres_port, postgres_db))\n",
    "\n",
    "tweets_df = pd.read_sql_query('select * from twitter',con=engine)\n",
    "\n",
    "# no need for an open connection, as we're only doing a single query\n",
    "engine.dispose()"
   ]
  },
  {
   "cell_type": "code",
   "execution_count": 6,
   "metadata": {},
   "outputs": [],
   "source": [
    "nlp = spacy.load('en')\n",
    "\n",
    "# below is necessary to avoid memory error of SpaCy\n",
    "nlp.max_length = 20000000\n",
    "\n",
    "# all the processing work is done below, so it may take a while\n",
    "twitter_doc = nlp(\" \".join(tweets_df.text))"
   ]
  },
  {
   "cell_type": "markdown",
   "metadata": {},
   "source": [
    "### Train a Markov chain model by using only the negative sentiment tweets. Generate some random sentences"
   ]
  },
  {
   "cell_type": "code",
   "execution_count": 11,
   "metadata": {},
   "outputs": [
    {
     "name": "stdout",
     "output_type": "stream",
     "text": [
      "@AmericanAir I want the flight I have why don't you.\n",
      "@AmericanAir rude gate agent at arrival MKE 2/23.\n",
      "I only flew them because I had loads of time running to my connecting flight will need.\n",
      "@United maybe find a different gate was rude when I asked to many questions. bag might still be on flight 413.\n",
      "@united your ground crew was so SLOW.\n",
      "@USAirways I've been waiting for over 10 mins...\n",
      "@JetBlue I am heading to JFK now and put in.\n",
      "I've now been on hold 2 hours 54 minutes.\n",
      "For an hour and a half which is longer than @ABCNetwork's #Oscars coverage.\n",
      "@AmericanAir but seriously if my cats dead I'm going to start charging you for the bad service and bad Friday!\n",
      "@USAirways not impressed with your customer service handler who misconnected me.\n",
      "@JetBlue I don't have a good sense on what's happening with 1217 Phl to LAX?\n",
      "I was on UA3782 and it was the most reliable..\n",
      "@USAirways hey!! Yeah last time I did, you screwed me out of my account.\n",
      "I've been on hold for over a hour trying to see a single CSR for reFlight Booking Problems me on TUESDAY.\n",
      "All followers please note that @USAirways is not the new @AmericanAir is more like the new seats.\n",
      "@AmericanAir is there any way you can help make it better.\n",
      "Tiny unusable video, no power &amp; lifevests on the floor like I'm homeless and now delayed flights because the equipment isn't working!\n",
      "@united what incentive do I have to wait a whole day of our honeymoon...\n",
      "#FRUSTRATED #LivePersonPlease @USAirways you can't control weather but you can control customer service.\n",
      "Didn't used to be my go-to @JetBlue You also promised to change my name for an upcoming flight.\n",
      "@united 2nd time in a row Long wait times on phones.\n",
      "That's called shitty customer svc @AmericanAir you have let me down.\n",
      "Waiting to be marshaled in @AmericanAir You Cancelled Flight our flight to our wedding!\n",
      "Please resolve this issue as your Cancelled Flightled flight tomorrow for over 4 hours.\n",
      "Can you please add me so I can tell my husband that he will be on another airline.\n",
      "Anyone hv a connection at SW or at another airline to get from fresno to pittsburgh by 10pm.\n",
      "@SouthwestAir looks like my 1 yr anni trip has been on hold 2+ hours trying to rebook flight 1707?\n",
      "My snowboard will not be flying w.\n",
      "@USAirways would be more staff.\n",
      "#goodgriefpeople @USAirways I have to worry about my flight tomorrow.\n",
      "Without luggage for 24 hours &amp; still yet to speak to a real person help me here?\n",
      "@USAirways made it to sf!\n",
      "Long lines!! ua1523 @united what's going on at terminal five at JFK?\n",
      "How do I change my flight and now I will miss my first appointments in London tomorrow morning.\n",
      "Our next flight will be Cancelled Flightled.\n",
      "@JetBlue - Hopefully that will help me, and do what they do... that'd be awesome.\n",
      "@united giving up on your direct flight from FLL&gt;SFO diverted to LAS?\n",
      "@USAirways now you don't know where my bag was in.\n",
      "@JetBlue I travel for a minor.\n"
     ]
    }
   ],
   "source": [
    "# all the processing work is done below, so it may take a while\n",
    "twitter_negative_doc = nlp(\" \".join(tweets_df[tweets_df[\"airline_sentiment\"]==\"negative\"].text))\n",
    "\n",
    "tweet_negative_sents = \" \".join([sent.text for sent in twitter_negative_doc.sents if len(sent.text) > 1])\n",
    "\n",
    "tweet_negative_generator = markovify.Text(tweet_negative_sents, state_size = 3)\n",
    "\n",
    "# 20 randomly generated negative sentences\n",
    "for i in range(20):\n",
    "    print(tweet_negative_generator.make_sentence(tries=100))\n",
    "\n",
    "# 20 randomly-generated negative sentences of no more than 100 characters\n",
    "for i in range(20):\n",
    "    print(tweet_negative_generator.make_short_sentence(100, tries=100))"
   ]
  },
  {
   "cell_type": "markdown",
   "metadata": {},
   "source": [
    "### Do the previous task this time bu using only the positive sentiment tweets. Generate some random sentences and observe whether they exhibit positive sentiment or not."
   ]
  },
  {
   "cell_type": "code",
   "execution_count": 9,
   "metadata": {},
   "outputs": [
    {
     "name": "stdout",
     "output_type": "stream",
     "text": [
      "It was wind and I was present for her help.\n",
      "@united thanks for the recommendation.\n",
      "We were delayed but your staff and alerts have been helpful.\n",
      "@united we were able to help out!\n",
      "Need it on my spotify stat #guiltypleasures @VirginAmerica @ladygaga @carrieunderwood love all three but you really can't beat the classics!\n",
      "Her flight leaves at 2 but she's arriving to the airport the rebooked ticket was refunded.\n",
      "@united well, thanks for not getting my BusinessFirst priority tagged bag onto my connecting flight for me so I wouldn't miss it.\n",
      "@united This is probably the least dependable airline in the world @JetBlue I would go to Las Vegas.\n",
      "Not #unreal @USAirways thanks for the reply.\n",
      "@USairways Since I am a raving fan.\n",
      "@USAirways knows customer service!! Thank you for the hard work and making it happen.\n",
      "#flyfi http://t.co/8jceDiKY9U @JetBlue thanks @JetBlue Then en route to LHR @united thank you!\n",
      "Thanks for the response - when is the next flight @USAirways You all work hard at making sure things flow smoothly.\n",
      "Only 8 minutes to get my stranded family home.\n",
      "@JetBlue thank you so so much for help Us, u r amazing!\n",
      "@united we were able to help out!\n",
      "Need it on my spotify stat #guiltypleasures @VirginAmerica @ladygaga @carrieunderwood Julie Andrews all the way there?\n",
      "You guys make me wonder why I have ever been on I am not kidding.\n",
      "@AmericanAir thanks for the tweet.\n",
      "@VirginAmerica I adore you, and am so looking forward to it when we finally take off.\n",
      "Flight #69 from BOS to MCO @JetBlue That's why I was so glad it was mentioned.\n",
      "@AmericanAir I love your company and fly all the time.\n",
      "@united So excited I was put on an earlier flight AND figure out an earlier connection!\n",
      "Cc: @CiscoJimFrench @cobedien @united I am - thank you!\n",
      "@AmericanAir Yep, was in one of the good ones.\n",
      "@SouthwestAir you guys are good @SouthwestAir loving the new planes for the JFK-LAX run.\n",
      "And thanks for being so responsive on Twitter.\n",
      "Thought u should know that.\n",
      "@JetBlue and a HUGE thanks to the pilots on the 6:15 out of Baltimore.\n",
      "Best of luck dealing with the weather!\n",
      "#livethelegend @JetBlue on the plane to DFW!\n",
      "@USAirways Many thanks for the effort.\n",
      "Just have never seen before!\n",
      "Thank you for a couple of minutes ago.\n",
      "#jfk #itsthelittlethings @JetBlue gorgeous day, hope the flight back for the free promo?\n",
      "@SouthwestAir, thanks for being so responsive on Twitter.\n",
      "IAH to DFW to OKC has turned out to be a member of the #inflight crew team...\n",
      "@united Brandi Zabsonre in Denver deserves a raise because she's awesome.\n",
      "We filled out a claim and hope to do so more!\n",
      "Still thanks for following up.\n"
     ]
    }
   ],
   "source": [
    "# all the processing work is done below, so it may take a while\n",
    "twitter_positive_doc = nlp(\" \".join(tweets_df[tweets_df[\"airline_sentiment\"]==\"positive\"].text))\n",
    "\n",
    "tweet_positive_sents = \" \".join([sent.text for sent in twitter_positive_doc.sents if len(sent.text) > 1])\n",
    "\n",
    "tweet_positive_generator = markovify.Text(tweet_positive_sents, state_size = 3)\n",
    "\n",
    "# 20 randomly generated sentences\n",
    "for i in range(20):\n",
    "    print(tweet_positive_generator.make_sentence(tries=100))\n",
    "\n",
    "# 20 randomly-generated sentences of no more than 100 characters\n",
    "for i in range(20):\n",
    "    print(tweet_positive_generator.make_short_sentence(100, tries=100))"
   ]
  },
  {
   "cell_type": "markdown",
   "metadata": {},
   "source": [
    "### This time train your Markov chain model using all the tweets and generate some random sentences. Can you say something systematic about the sentiments of the generated tweets?"
   ]
  },
  {
   "cell_type": "code",
   "execution_count": 10,
   "metadata": {},
   "outputs": [
    {
     "name": "stdout",
     "output_type": "stream",
     "text": [
      "#usairwayssucks @USAirways after missing my flight and now are still delayed...\n",
      "Over 20 minutes waiting just to get you on your way ASAP @united @RobBogart After I waited hours in the past week.\n",
      "Flight to Dallas was Cancelled Flightled http://t.co/YiwLhQhZgp @USAirways, 1st a reaccommodation, now a delayed flight at this very moment.\n",
      "Get error msg when trying to purchase a flight that is this week!!!!! @AmericanAir You guys are a huge joke and Cancelled Flight as members w u.\n",
      "Door was closed only to be told I need to Cancelled Flight one leg of a flight, but I've since learned @Delta had one!\n",
      "@united So disappointed in the service and cheap upgrades American Provides!\n",
      "#missedflight back to Jet Blue @SouthwestAir when are you guys going to leave the airport w/o my luggage.\n",
      "I hope you all end up on hold for 1 hour.\n",
      "@USAirways @AmericanAir nvm my bad it's been an hour @SouthwestAir departing MDW it's cold 26F, windy with snow on the ground instead of diverting the plane &amp; adding 2 hrs to the flight?\n",
      "Three hour wait for a call @AmericanAir v nice of you to give me her name as a reference for my notes.\n",
      "@USAirways I can't wait to hear back once claim submitted?\n",
      "My guess is the bags never made the plane at bhm and now 30 min in baggage and still no response....disappointed but not surprised....\n",
      "@united and the fact that I can't get my missing miles?\n",
      "I need some @Imaginedragons back in my life have I dealt with in Orlando was incredibly rude.\n",
      "@SouthwestAir IM NOT THO 😭😭💔 @SouthwestAir so u guys Cancelled Flight my reservation for tsa pre?\n",
      "@USAirways WORST customer service and simply being NICE.\n",
      "@united can you help chairman?\n",
      "@united I already sent feedback and your reps are who told me the bag was still in Nashville, when I filed the claim.\n",
      "Sitting on a freezing bus because nobody is in the photo http://t.co/JI7xkS2jkk @JetBlue Yes That's true but they are also frustrated.\n",
      "Is it possible to add companion to only the 2nd leg of a flight, but now no one can confirm it.\n",
      "@USAirways is setting themselves up for a flight I wanted to pass it along.\n",
      "@AmericanAir which one.?i have been booked on the same flight I was booked on.\n",
      "@united and was told I asked to fly today with stop over.\n",
      "We spent the whole day about my Cancelled Flightled flights anyway.\n",
      "Easy change to make a change over the phone, correct?\n",
      "Set to take off now 2 hours and it’s been 4.\n",
      "@AmericanAir the flight I'm trying to find the receipt for it.\n",
      "On line not working &amp; agents too busy to join the team with this job opening!\n",
      "Can we go back back to the gate.\n",
      "I am trying to find out my options, yet no one is working . @USAirways Oh well.\n",
      "#failure http://t.co/ef4P0HISHb @USAirways for a response to email fr1/5/2015 SR #256746438028.\n",
      "@united roundtrip to London on @Delta ? I think I left my dildo on the plane in Late Flight August!\n",
      ":P You guys are awesome.\n",
      "Amazing how one company continually makes mistakes yet fails to be held there for me to fly?\n",
      "If this is the worst $8 investment I have ever had.\n",
      "@USAirways what is your solution?\n",
      "I have my bag but won't give me free everything to appease me.\n",
      "Bag on flt @AmericanAir you Cancelled Flight their flights or at least some plastic wings.\n",
      "Will never ever fly your airline ever again.\n",
      "Cmon fam @SouthwestAir Thank you thank you thank you for refunding my bag fee.\n"
     ]
    }
   ],
   "source": [
    "# all the processing work is done below, so it may take a while\n",
    "twitter_doc = nlp(\" \".join(tweets_df.text))\n",
    "\n",
    "tweet_sents = \" \".join([sent.text for sent in twitter_doc.sents if len(sent.text) > 1])\n",
    "\n",
    "tweet_generator = markovify.Text(tweet_sents, state_size = 3)\n",
    "\n",
    "# three randomly generated sentences\n",
    "for i in range(20):\n",
    "    print(tweet_generator.make_sentence(tries=100))\n",
    "\n",
    "# three randomly-generated sentences of no more than 100 characters\n",
    "for i in range(20):\n",
    "    print(tweet_generator.make_short_sentence(100, tries=100))"
   ]
  },
  {
   "cell_type": "code",
   "execution_count": null,
   "metadata": {},
   "outputs": [],
   "source": []
  }
 ],
 "metadata": {
  "kernelspec": {
   "display_name": "Python 3",
   "language": "python",
   "name": "python3"
  },
  "language_info": {
   "codemirror_mode": {
    "name": "ipython",
    "version": 3
   },
   "file_extension": ".py",
   "mimetype": "text/x-python",
   "name": "python",
   "nbconvert_exporter": "python",
   "pygments_lexer": "ipython3",
   "version": "3.7.4"
  }
 },
 "nbformat": 4,
 "nbformat_minor": 2
}
