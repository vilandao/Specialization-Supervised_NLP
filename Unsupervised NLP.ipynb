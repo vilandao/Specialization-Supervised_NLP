{
 "cells": [
  {
   "cell_type": "markdown",
   "metadata": {},
   "source": [
    "## Latent Semantic Analysis\n",
    "\n",
    "Latent Semantic Analysis (also called Latent Semantic Indexing) is the process of applying PCA to a tf-idf term-document matrix. What we get, in the end, is clusters of terms that presumably reflect a topic. Each document will get a score for each topic, with higher scores indicating that the document is relevant to the topic. Documents can pertain to more than one topic.\n",
    "\n",
    "LSA is handy when your corpus is too large to topically annotate by hand, or when you don't know what topics characterize your documents. It is also useful as a way of creating features to be used in other models.\n",
    "\n",
    "Let's try it out! Once again, we'll use the gutenberg corpus. This time, we'll focus on comparing paragraphs within Emma by Jane Austen"
   ]
  },
  {
   "cell_type": "code",
   "execution_count": 1,
   "metadata": {},
   "outputs": [
    {
     "name": "stderr",
     "output_type": "stream",
     "text": [
      "[nltk_data] Downloading package punkt to /Users/vilandao/nltk_data...\n",
      "[nltk_data]   Package punkt is already up-to-date!\n",
      "[nltk_data] Downloading package gutenberg to\n",
      "[nltk_data]     /Users/vilandao/nltk_data...\n",
      "[nltk_data]   Package gutenberg is already up-to-date!\n"
     ]
    }
   ],
   "source": [
    "# Import libraries:\n",
    "import numpy as np\n",
    "import pandas as pd\n",
    "import scipy\n",
    "import matplotlib.pyplot as plt\n",
    "import seaborn as sns\n",
    "%matplotlib inline\n",
    "\n",
    "import nltk\n",
    "nltk.download('punkt')\n",
    "nltk.download('gutenberg')\n",
    "from nltk.corpus import gutenberg\n",
    "import re\n",
    "from sklearn.model_selection import train_test_split"
   ]
  },
  {
   "cell_type": "code",
   "execution_count": 2,
   "metadata": {},
   "outputs": [
    {
     "name": "stdout",
     "output_type": "stream",
     "text": [
      "['[ Emma by Jane Austen 1816 ]', 'VOLUME I', 'CHAPTER I', 'Emma Woodhouse , handsome , clever , and rich , with a comfortable home and happy disposition , seemed to unite some of the best blessings of existence ; and had lived nearly twenty - one years in the world with very little to distress or vex her .', \"She was the youngest of the two daughters of a most affectionate , indulgent father ; and had , in consequence of her sister ' s marriage , been mistress of his house from a very early period .\"]\n"
     ]
    }
   ],
   "source": [
    "# Reading the data, this time in the form of paragraphs\n",
    "emma=gutenberg.paras('austen-emma.txt')\n",
    "\n",
    "# Processing\n",
    "emma_paras=[]\n",
    "for paragraph in emma:\n",
    "    para=paragraph[0]\n",
    "    para=[re.sub(r'--','',word) for word in para] #removing the double-dash from all words\n",
    "    emma_paras.append(' '.join(para)) #forming each paragraph into a string and adding it to the list of strings.\n",
    "\n",
    "print(emma_paras[0:5])"
   ]
  },
  {
   "cell_type": "code",
   "execution_count": 5,
   "metadata": {},
   "outputs": [
    {
     "name": "stdout",
     "output_type": "stream",
     "text": [
      "Number of features: 1948\n",
      "Original sentence: But at last there seemed a perverse turn ; it seemed all at once as if he were more afraid of its being a bad sore throat on her account , than on Harriet ' s  more anxious that she should escape the infection , than that there should be no infection in the complaint .\n",
      "\n",
      "Tf_idf vector: {'escape': 0.35120659230647405, 'turn': 0.32238320694189937, 'complaint': 0.37625602722408696, 'throat': 0.36214891705659447, 'sore': 0.36214891705659447, 'anxious': 0.3082760967744069, 'afraid': 0.2911961276743497, 'bad': 0.2857419390466859, 'harriet': 0.17257230514763916, 'account': 0.27855292186624075}\n"
     ]
    }
   ],
   "source": [
    "# Define tfidfvectorizer:\n",
    "from sklearn.feature_extraction.text import TfidfVectorizer\n",
    "\n",
    "X_train, X_test = train_test_split(emma_paras, test_size=0.4, random_state=123)\n",
    "\n",
    "vectorizer = TfidfVectorizer(max_df=0.5, # drop words that occur in more than half the paragraphs\n",
    "                             min_df=2, # only use words that appear at least twice\n",
    "                             stop_words='english', \n",
    "                             lowercase=True, #convert everything to lower case (since Alice in Wonderland has the HABIT of CAPITALIZING WORDS for EMPHASIS)\n",
    "                             use_idf=True,#we definitely want to use inverse document frequencies in our weighting\n",
    "                             norm=u'l2', #Applies a correction factor so that longer paragraphs and shorter paragraphs get treated equally\n",
    "                             smooth_idf=True #Adds 1 to all document frequencies, as if an extra document existed that used every word once.  Prevents divide-by-zero errors\n",
    "                            )\n",
    "\n",
    "# Applying the vectorizer\n",
    "emma_paras_tfidf=vectorizer.fit_transform(emma_paras)\n",
    "print(\"Number of features: %d\" % emma_paras_tfidf.get_shape()[1])\n",
    "\n",
    "# Splitting into training and test sets\n",
    "X_train_tfidf, X_test_tfidf= train_test_split(emma_paras_tfidf, test_size=0.4, random_state=123)\n",
    "\n",
    "# Reshapes the vectorizer output into something people can read\n",
    "X_train_tfidf_csr = X_train_tfidf.tocsr()\n",
    "\n",
    "# Number of paragraphs\n",
    "n = X_train_tfidf_csr.shape[0]\n",
    "\n",
    "#A list of dictionaries, one per paragraph\n",
    "tfidf_bypara = [{} for _ in range(0,n)]\n",
    "\n",
    "#List of features\n",
    "terms = vectorizer.get_feature_names()\n",
    "\n",
    "#for each paragraph, lists the feature words and their tf-idf scores\n",
    "for i, j in zip(*X_train_tfidf_csr.nonzero()):\n",
    "    tfidf_bypara[i][terms[j]] = X_train_tfidf_csr[i, j]\n",
    "    \n",
    "#Keep in mind that the log base 2 of 1 is 0, so a tf-idf score of 0 indicates that the word was present once in that sentence.\n",
    "print('Original sentence:', X_train[5])\n",
    "print('')\n",
    "print('Tf_idf vector:', tfidf_bypara[5])"
   ]
  },
  {
   "cell_type": "code",
   "execution_count": 6,
   "metadata": {},
   "outputs": [
    {
     "name": "stdout",
     "output_type": "stream",
     "text": [
      "Percent variance captured by all components: 44.63615902900558\n",
      "\n",
      "Component 0:\n",
      "\" Oh !    0.999622\n",
      "\" Oh !    0.999622\n",
      "\" Oh !    0.999622\n",
      "\" Oh !    0.999622\n",
      "\" Oh !    0.999622\n",
      "Oh !      0.999622\n",
      "\" Oh !    0.999622\n",
      "\" Oh !    0.999622\n",
      "\" Oh !    0.999622\n",
      "\" Oh !    0.999622\n",
      "Name: 0, dtype: float64\n",
      "\n",
      "Component 1:\n",
      "\" You have made her too tall , Emma ,\" said Mr . Knightley .                                                                                                                                                                                                                                                                                                                                                                                         0.628719\n",
      "\" Well , Mrs . Weston ,\" said Emma triumphantly when he left them , \" what do you say now to Mr . Knightley ' s marrying Jane Fairfax ?\"                                                                                                                                                                                                                                                                                                             0.621442\n",
      "\" There were misunderstandings between them , Emma ; he said so expressly .                                                                                                                                                                                                                                                                                                                                                                          0.562496\n",
      "After tea , Mr . and Mrs . Weston , and Mr . Elton sat down with Mr . Woodhouse to cards .                                                                                                                                                                                                                                                                                                                                                           0.543172\n",
      "Frank turned instantly to Emma , to claim her former promise ; and boasted himself an engaged man , which his father looked his most perfect approbation of  and it then appeared that Mrs . Weston was wanting _him_ to dance with Mrs . Elton himself , and that their business was to help to persuade him into it , which was done pretty soon . Mr . Weston and Mrs . Elton led the way , Mr . Frank Churchill and Miss Woodhouse followed .    0.538751\n",
      "Emma found that it was not Mr . Weston ' s fault that the number of privy councillors was not yet larger .                                                                                                                                                                                                                                                                                                                                           0.530727\n",
      "\" I do not know what your opinion may be , Mrs . Weston ,\" said Mr . Knightley , \" of this great intimacy between Emma and Harriet Smith , but I think it a bad thing .\"                                                                                                                                                                                                                                                                             0.525617\n",
      "\" You are right , Mrs . Weston ,\" said Mr . Knightley warmly , \" Miss Fairfax is as capable as any of us of forming a just opinion of Mrs . Elton .                                                                                                                                                                                                                                                                                                  0.508414\n",
      "\" Well ,\" said Emma , \" there is no disputing about taste . At least you admire her except her complexion .\"                                                                                                                                                                                                                                                                                                                                         0.505797\n",
      "\" Isabella and Emma both write beautifully ,\" said Mr . Woodhouse ; \" and always did .                                                                                                                                                                                                                                                                                                                                                               0.504082\n",
      "Name: 1, dtype: float64\n",
      "\n",
      "Component 2:\n",
      "\" Ah !      0.998283\n",
      "\" Ah !      0.998283\n",
      "\" Ah !      0.998283\n",
      "\" Ah !      0.998283\n",
      "\" Ah !      0.998283\n",
      "\" Ah !      0.998283\n",
      "\" Ah !      0.998283\n",
      "But ah !    0.998283\n",
      "\" Ah !      0.998283\n",
      "\" Ah !      0.998283\n",
      "Name: 2, dtype: float64\n",
      "\n",
      "Component 3:\n",
      "\" Emma !\"                                                                      0.723921\n",
      "Emma demurred .                                                                0.723921\n",
      "Emma had done .                                                                0.723921\n",
      "\" Are you well , my Emma ?\"                                                    0.723921\n",
      "Emma could not resist .                                                        0.707873\n",
      "Emma wondered on what , of all the medley , she would fix .                    0.675137\n",
      "At first it was downright dulness to Emma .                                    0.669879\n",
      "\" Emma , my dear Emma \"                                                        0.614657\n",
      "Emma was out of hearing .                                                      0.613002\n",
      "\" There were misunderstandings between them , Emma ; he said so expressly .    0.596530\n",
      "Name: 3, dtype: float64\n",
      "\n",
      "Component 4:\n",
      "CHAPTER I       0.999781\n",
      "CHAPTER X       0.999781\n",
      "CHAPTER I       0.999781\n",
      "CHAPTER V       0.999781\n",
      "CHAPTER X       0.999781\n",
      "CHAPTER X       0.999781\n",
      "CHAPTER VI      0.999509\n",
      "CHAPTER XIII    0.999508\n",
      "CHAPTER VIII    0.999504\n",
      "CHAPTER XVI     0.999498\n",
      "Name: 4, dtype: float64\n"
     ]
    }
   ],
   "source": [
    "# Dimensionality reduction with TruncatedSVD:\n",
    "from sklearn.decomposition import TruncatedSVD\n",
    "from sklearn.pipeline import make_pipeline\n",
    "from sklearn.preprocessing import Normalizer\n",
    "\n",
    "# Our SVD data reducer. We are going to reduce the feature space from 1379 to 130.\n",
    "svd= TruncatedSVD(130)\n",
    "lsa = make_pipeline(svd, Normalizer(copy=False))\n",
    "\n",
    "# Run SVD on the training data, then project the training data.\n",
    "X_train_lsa = lsa.fit_transform(X_train_tfidf)\n",
    "\n",
    "variance_explained=svd.explained_variance_ratio_\n",
    "total_variance = variance_explained.sum()\n",
    "print(\"Percent variance captured by all components:\",total_variance*100)\n",
    "\n",
    "#Looking at what sorts of paragraphs our solution considers similar, for the first five identified topics\n",
    "paras_by_component=pd.DataFrame(X_train_lsa,index=X_train)\n",
    "\n",
    "for i in range(5):\n",
    "    print('')\n",
    "    print('Component {}:'.format(i))\n",
    "    print(paras_by_component.loc[:,i].sort_values(ascending=False)[0:10])"
   ]
  },
  {
   "cell_type": "markdown",
   "metadata": {},
   "source": [
    "## Sentence similarity\n",
    "\n",
    "We can also look at how similar various sentences are to one another. For example, here are the similarity scores (as a heatmap) of the first 10 sentences in the training set:"
   ]
  },
  {
   "cell_type": "code",
   "execution_count": 7,
   "metadata": {},
   "outputs": [
    {
     "data": {
      "image/png": "[encoded data removed]",
      "text/plain": [
       "<Figure size 720x504 with 2 Axes>"
      ]
     },
     "metadata": {
      "needs_background": "light"
     },
     "output_type": "display_data"
    },
    {
     "name": "stdout",
     "output_type": "stream",
     "text": [
      "Key:\n",
      "\n",
      "0 He looked with smiling penetration ; and , on receiving no answer , added , \" _She_ ought not to be angry with you , I suspect , whatever he may be . To that surmise , you say nothing , of course ; but confess , Emma , that you did want him to marry Harriet .\"\n",
      "\n",
      "1 \" Ah !\n",
      "\n",
      "2 \" You have some news to hear , now you are come back , that will rather surprize you .\"\n",
      "\n",
      "3 \" I have made a most wretched discovery ,\" said he , after a short pause . \" I have been here a week to - morrow  half my time .\n",
      "\n",
      "4 \" Well !\n",
      "\n",
      "5 But at last there seemed a perverse turn ; it seemed all at once as if he were more afraid of its being a bad sore throat on her account , than on Harriet ' s  more anxious that she should escape the infection , than that there should be no infection in the complaint .\n",
      "\n",
      "6 Harriet , who was standing at some distance , and with face turned from her , did not immediately say any thing ; and when she did speak , it was in a voice nearly as agitated as Emma ' s .\n",
      "\n",
      "7 \" Harriet !\"\n",
      "\n",
      "8 \" Upon my word , my dear , I do not know , for I never heard the subject talked of .\"\n",
      "\n",
      "9 \" Why , to be sure ,\" said Mr . Woodhouse \" yes , certainly  I cannot deny that Mrs . Weston , poor Mrs . Weston , does come and see us pretty often  but then  she is always obliged to go away again .\"\n"
     ]
    }
   ],
   "source": [
    "# Compute document similarity using LSA components\n",
    "similarity = np.asarray(np.asmatrix(X_train_lsa) * np.asmatrix(X_train_lsa).T)\n",
    "\n",
    "#Only taking the first 10 sentences\n",
    "sim_matrix=pd.DataFrame(similarity,index=X_train).iloc[0:10,0:10]\n",
    "\n",
    "#Making a plot\n",
    "plt.figure(figsize=(10,7))\n",
    "sns.heatmap(sim_matrix,yticklabels=range(10), annot=True)\n",
    "plt.show()\n",
    "\n",
    "#Generating a key for the plot.\n",
    "print('Key:')\n",
    "for i in range(10):\n",
    "    print('')\n",
    "    print(i,sim_matrix.index[i])"
   ]
  },
  {
   "cell_type": "markdown",
   "metadata": {},
   "source": [
    "## Test LSA on test set:"
   ]
  },
  {
   "cell_type": "code",
   "execution_count": 8,
   "metadata": {},
   "outputs": [
    {
     "name": "stdout",
     "output_type": "stream",
     "text": [
      "Percent variance captured by all components: 44.63615902900558\n",
      "\n",
      "Component 0:\n",
      "\" Oh !    0.999622\n",
      "\" Oh !    0.999622\n",
      "\" Oh !    0.999622\n",
      "\" Oh !    0.999622\n",
      "\" Oh !    0.999622\n",
      "\" Oh !    0.999622\n",
      "\" Oh !    0.999622\n",
      "\" Oh !    0.999622\n",
      "\" Oh !    0.999622\n",
      "\" Oh !    0.999622\n",
      "Name: 0, dtype: float64\n",
      "\n",
      "Component 1:\n",
      "Mrs . Weston said no more ; and Emma could imagine with what surprize and mortification she must be returning to her seat .                                                                                                               0.578833\n",
      "\" Emma knows I never flatter her ,\" said Mr . Knightley , \" but I meant no reflection on any body .                                                                                                                                       0.578683\n",
      "Emma knew that she had , but would not own it ; and Mr . Elton warmly added ,                                                                                                                                                             0.572565\n",
      "\" You get upon delicate subjects , Emma ,\" said Mrs . Weston smiling ; \" remember that I am here . Mr .                                                                                                                                   0.572468\n",
      "Mr . Knightley might quarrel with her , but Emma could not quarrel with herself .                                                                                                                                                         0.567441\n",
      "Nobody had any information to give ; and , after a few more wonderings , Emma said ,                                                                                                                                                      0.561241\n",
      "\" No , no ,\" said Emma , \" it will not reckon low .                                                                                                                                                                                       0.556696\n",
      "\" He is a person I never think of from one month ' s end to another ,\" said Mr . Knightley , with a degree of vexation , which made Emma immediately talk of something else , though she could not comprehend why he should be angry .    0.548638\n",
      "Mrs . Weston was looking so ill , and had an air of so much perturbation , that Emma ' s uneasiness increased ; and the moment they were alone , she eagerly said ,                                                                       0.540144\n",
      "In this walk Emma and Mr . Weston found all the others assembled ; and towards this view she immediately perceived Mr . Knightley and Harriet distinct from the rest , quietly leading the way .                                          0.537132\n",
      "Name: 1, dtype: float64\n",
      "\n",
      "Component 2:\n",
      "\" Ah !      0.998283\n",
      "\" Ah !      0.998283\n",
      "\" Ah !      0.998283\n",
      "\" Ah !      0.998283\n",
      "\" Ah !      0.998283\n",
      "\" Ah !\"     0.998283\n",
      "\" Ah !\"     0.998283\n",
      "But ah !    0.998283\n",
      "\" Ah !      0.998283\n",
      "\" Ah !      0.998283\n",
      "Name: 2, dtype: float64\n",
      "\n",
      "Component 3:\n",
      "\" My Emma !\"                                                                                                             0.723921\n",
      "\" And I do envy him , Emma .                                                                                             0.721469\n",
      "Emma was silenced .                                                                                                      0.703218\n",
      "Emma laughed and disclaimed .                                                                                            0.671767\n",
      "Emma remained in a state of vexation too ; but there was more indistinctness in the causes of her ' s , than in his .    0.669509\n",
      "\" He knew nothing about it , Emma .                                                                                      0.608051\n",
      "Emma was in no danger of forgetting .                                                                                    0.591081\n",
      "No second meeting had there yet been between him and Emma .                                                              0.590699\n",
      "\" No , no ,\" said Emma , \" it will not reckon low .                                                                      0.588118\n",
      "Nobody had any information to give ; and , after a few more wonderings , Emma said ,                                     0.576773\n",
      "Name: 3, dtype: float64\n",
      "\n",
      "Component 4:\n",
      "CHAPTER I       0.999781\n",
      "CHAPTER V       0.999781\n",
      "CHAPTER XIX     0.999781\n",
      "CHAPTER V       0.999781\n",
      "CHAPTER XI      0.999781\n",
      "CHAPTER XI      0.999781\n",
      "CHAPTER XI      0.999781\n",
      "CHAPTER VI      0.999509\n",
      "CHAPTER VI      0.999509\n",
      "CHAPTER XIII    0.999508\n",
      "Name: 4, dtype: float64\n"
     ]
    }
   ],
   "source": [
    "# Apply LSA model to the test set. Does it identify similar sentences for components 0 through 4?\n",
    "X_test_lsa = lsa.transform(X_test_tfidf)\n",
    "\n",
    "variance_explained=svd.explained_variance_ratio_\n",
    "total_variance = variance_explained.sum()\n",
    "print(\"Percent variance captured by all components:\",total_variance*100)\n",
    "\n",
    "#Looking at what sorts of paragraphs our solution considers similar, for the first five identified topics\n",
    "paras_by_component=pd.DataFrame(X_test_lsa,index=X_test)\n",
    "\n",
    "for i in range(5):\n",
    "    print('')\n",
    "    print('Component {}:'.format(i))\n",
    "    print(paras_by_component.loc[:,i].sort_values(ascending=False)[0:10])"
   ]
  },
  {
   "cell_type": "markdown",
   "metadata": {},
   "source": [
    "## Tweak LSA"
   ]
  },
  {
   "cell_type": "code",
   "execution_count": 15,
   "metadata": {},
   "outputs": [
    {
     "name": "stdout",
     "output_type": "stream",
     "text": [
      "Changes: Decrease max_df to 0.3 (drop words in more than 30% of paragraphs), min_df =5, and correction factor to L1\n",
      "Number of features: 799\n",
      "Percent variance captured by all components: 70.97488467020383\n"
     ]
    }
   ],
   "source": [
    "print('Changes: Decrease max_df to 0.3 (drop words in more than 30% of paragraphs), min_df =5, and correction factor to L1')\n",
    "\n",
    "vectorizer = TfidfVectorizer(max_df=0.3, # drop words that occur in more than 30% the paragraphs\n",
    "                             min_df=5, # only use words that appear at least 5 times\n",
    "                             stop_words='english', \n",
    "                             lowercase=True, #convert everything to lower case (since Alice in Wonderland has the HABIT of CAPITALIZING WORDS for EMPHASIS)\n",
    "                             use_idf=True,#we definitely want to use inverse document frequencies in our weighting\n",
    "                             norm=u'l1', #Applies a correction factor so that longer paragraphs and shorter paragraphs get treated equally\n",
    "                             smooth_idf=True #Adds 1 to all document frequencies, as if an extra document existed that used every word once.  Prevents divide-by-zero errors\n",
    "                            )\n",
    "\n",
    "\n",
    "#Applying the vectorizer\n",
    "emma_paras_tfidf=vectorizer.fit_transform(emma_paras)\n",
    "print(\"Number of features: %d\" % emma_paras_tfidf.get_shape()[1])\n",
    "\n",
    "#splitting into training and test sets\n",
    "X_train_tfidf, X_test_tfidf= train_test_split(emma_paras_tfidf, test_size=0.4, random_state=0)\n",
    "\n",
    "#Reshapes the vectorizer output into something people can read\n",
    "X_train_tfidf_csr = X_train_tfidf.tocsr()\n",
    "\n",
    "#Our SVD data reducer.  We are going to reduce the feature space from 1379 to 130.\n",
    "svd= TruncatedSVD(130)\n",
    "lsa = make_pipeline(svd, Normalizer(copy=False))\n",
    "\n",
    "# Run SVD on the training data, then project the training data.\n",
    "X_train_lsa = lsa.fit_transform(X_train_tfidf)\n",
    "\n",
    "variance_explained=svd.explained_variance_ratio_\n",
    "total_variance = variance_explained.sum()\n",
    "print(\"Percent variance captured by all components:\",total_variance*100)"
   ]
  },
  {
   "cell_type": "code",
   "execution_count": 16,
   "metadata": {},
   "outputs": [
    {
     "name": "stdout",
     "output_type": "stream",
     "text": [
      "\n",
      "Component 0:\n",
      "\" There does , indeed , seem as little to tempt her to break her resolution at present ,\" said Mrs . Weston , \" as can well be ; and while she is so happy at Hartfield , I cannot wish her to be forming any attachment which would be creating such difficulties on poor Mr . Woodhouse ' s account .    0.999926\n",
      "\" So much the better  or so much the worse : I do not know which .                                                                                                                                                                                                                                         0.999926\n",
      "CHAPTER XV                                                                                                                                                                                                                                                                                                 0.999926\n",
      "\" But , my dear papa , you are no friend to matrimony ; and therefore why should you be so anxious to pay your respects to a _bride_ ?                                                                                                                                                                     0.999926\n",
      "\" My dear madam !                                                                                                                                                                                                                                                                                          0.999926\n",
      "\" Aye , very true , my dear ,\" cried the latter , though Jane had not spoken a word \" I was just going to say the same thing .                                                                                                                                                                             0.999926\n",
      "Emma had not had time even to think of Mr . Elton , and she was so completely surprized that she could not avoid a little start , and a little blush , at the sound .                                                                                                                                      0.999926\n",
      "\" I remember once calling you ` George ,' in one of my amiable fits , about ten years ago .                                                                                                                                                                                                                0.999926\n",
      "\" A new neighbour for us all , Miss Woodhouse !\"                                                                                                                                                                                                                                                           0.999926\n",
      "\" It appears to me a plan that nobody can object to , if Mr . and Mrs . Weston do not .                                                                                                                                                                                                                    0.999926\n",
      "Name: 0, dtype: float64\n",
      "\n",
      "Component 1:\n",
      "The persons to be invited , required little thought .                                                                                                                                                                                                                                                                                                      1.0\n",
      "\" Are you sure ?                                                                                                                                                                                                                                                                                                                                           1.0\n",
      "Harriet was farther unfortunate in the tone of her companions at Mrs . Goddard ' s ; Mr . Elton being the adoration of all the teachers and great girls in the school ; and it must be at Hartfield only that she could have any chance of hearing him spoken of with cooling moderation or repellent truth .                                              1.0\n",
      "\" I do not know what your opinion may be , Mrs . Weston ,\" said Mr . Knightley , \" of this great intimacy between Emma and Harriet Smith , but I think it a bad thing .\"                                                                                                                                                                                   1.0\n",
      "\" No , I do not ; that is , I do not mean  What shall I do ?                                                                                                                                                                                                                                                                                               1.0\n",
      "Miss Bates and Miss Fairfax , escorted by the two gentlemen , walked into the room ; and Mrs . Elton seemed to think it as much her duty as Mrs . Weston ' s to receive them .                                                                                                                                                                             1.0\n",
      "\" In one respect , perhaps , Mr . Elton ' s manners are superior to Mr . Knightley ' s or Mr . Weston ' s .                                                                                                                                                                                                                                                1.0\n",
      "Now Emma was obliged to think of the pianoforte ; and the remembrance of all her former fanciful and unfair conjectures was so little pleasing , that she soon allowed herself to believe her visit had been long enough ; and , with a repetition of every thing that she could venture to say of the good wishes which she really felt , took leave .    1.0\n",
      "\" But , in spite of all her friends ' urgency , and her own wish of seeing Ireland , Miss Fairfax prefers devoting the time to you and Mrs .                                                                                                                                                                                                               1.0\n",
      "\" And now that I understand your question , I must pronounce it to be a very unfair one .                                                                                                                                                                                                                                                                  1.0\n",
      "Name: 1, dtype: float64\n",
      "\n",
      "Component 2:\n",
      "But his spirits were soon rising again , and with laughing eyes , after mentioning the expected return of the Campbells , he named the name of Dixon . Emma blushed , and forbade its being pronounced in her hearing .    0.99998\n",
      "Emma turned away her head , divided between tears and smiles .                                                                                                                                                             0.99998\n",
      "\" I did not thoroughly understand what you were telling your brother ,\" cried Emma , \" about your friend Mr . Graham ' s intending to have a bailiff from Scotland , to look after his new estate .                        0.99998\n",
      "Emma had not another word to oppose .                                                                                                                                                                                      0.99998\n",
      "\" There is hardly any desiring to refresh such a memory as _that_ ,\" said Mr . Knightley , feelingly ; and for a moment or two he had done .                                                                               0.99998\n",
      "She met Mr . Weston on his entrance , with a smiling countenance , exclaiming ,                                                                                                                                            0.99998\n",
      "\" No , certainly not ; I shall go home in the cool of the evening .\"                                                                                                                                                       0.99998\n",
      "Jane ' s curiosity did not appear of that absorbing nature as wholly to occupy her .                                                                                                                                       0.99998\n",
      "Poor man ! it was at first a considerable shock to him , and he tried earnestly to dissuade her from it .                                                                                                                  0.99998\n",
      "\" There is no charm equal to tenderness of heart ,\" said she afterwards to herself .                                                                                                                                       0.99998\n",
      "Name: 2, dtype: float64\n",
      "\n",
      "Component 3:\n",
      "\" But the imprudence of such a match !\"                                                                                                                                                                                                                                                                                                                                                                                                                                                                                                                                                                                                                                   0.890540\n",
      "Her father ' s comfort was amply secured , Mrs . Bates as well as Mrs . Goddard being able to come ; and her last pleasing duty , before she left the house , was to pay her respects to them as they sat together after dinner ; and while her father was fondly noticing the beauty of her dress , to make the two ladies all the amends in her power , by helping them to large slices of cake and full glasses of wine , for whatever unwilling self - denial his care of their constitution might have obliged them to practise during the meal . She had provided a plentiful dinner for them ; she wished she could know that they had been allowed to eat it .    0.890540\n",
      "Mr . and Mrs . John Knightley were not detained long at Hartfield .                                                                                                                                                                                                                                                                                                                                                                                                                                                                                                                                                                                                       0.890540\n",
      "Emma could not resist .                                                                                                                                                                                                                                                                                                                                                                                                                                                                                                                                                                                                                                                   0.890540\n",
      "She smiled her acceptance ; and nothing less than a summons from Richmond was to take him back before the following evening .                                                                                                                                                                                                                                                                                                                                                                                                                                                                                                                                             0.890540\n",
      "\" Will Mr . Frank Churchill pass through Bath as well as Oxford ?\"                                                                                                                                                                                                                                                                                                                                                                                                                                                                                                                                                                                                        0.890540\n",
      "\" Conjecture  aye , sometimes one conjectures right , and sometimes one conjectures wrong .                                                                                                                                                                                                                                                                                                                                                                                                                                                                                                                                                                               0.879025\n",
      "At last he was persuaded to move on from the front of the Crown ; and being now almost facing the house where the Bateses lodged , Emma recollected his intended visit the day before , and asked him if he had paid it .                                                                                                                                                                                                                                                                                                                                                                                                                                                 0.871899\n",
      "Harriet exactly .                                                                                                                                                                                                                                                                                                                                                                                                                                                                                                                                                                                                                                                         0.867222\n",
      "\" If not in our dispositions ,\" she presently added , with a look of true sensibility , \" there is a likeness in our destiny ; the destiny which bids fair to connect us with two characters so much superior to our own .\"                                                                                                                                                                                                                                                                                                                                                                                                                                               0.865050\n",
      "Name: 3, dtype: float64\n",
      "\n",
      "Component 4:\n",
      "\" Oh !\"                                                                                                                                 0.886156\n",
      "\" I cannot help wondering at your knowing so little of Emma as to say any such thing .                                                  0.886156\n",
      "Every invitation was successful .                                                                                                       0.687791\n",
      "When the gloves were bought , and they had quitted the shop again , \" Did you ever hear the young lady we were speaking of , play ?\"    0.687791\n",
      "\" A very serious sort , I assure you ;\" still smiling .                                                                                 0.687791\n",
      "\" I have never had a high opinion of Frank Churchill . I can suppose , however , that I may have underrated him .                       0.687791\n",
      "\" What shall you do !                                                                                                                   0.667932\n",
      "CHAPTER XIV                                                                                                                             0.662634\n",
      "\" Will you ?\"                                                                                                                           0.655802\n",
      "\" Indeed you did .                                                                                                                      0.642607\n",
      "Name: 4, dtype: float64\n"
     ]
    }
   ],
   "source": [
    "#Looking at what sorts of paragraphs our solution considers similar, for the first five identified topics\n",
    "paras_by_component=pd.DataFrame(X_train_lsa,index=X_train)\n",
    "\n",
    "for i in range(5):\n",
    "    print('')\n",
    "    print('Component {}:'.format(i))\n",
    "    print(paras_by_component.loc[:,i].sort_values(ascending=False)[0:10])"
   ]
  }
 ],
 "metadata": {
  "kernelspec": {
   "display_name": "Python 3",
   "language": "python",
   "name": "python3"
  },
  "language_info": {
   "codemirror_mode": {
    "name": "ipython",
    "version": 3
   },
   "file_extension": ".py",
   "mimetype": "text/x-python",
   "name": "python",
   "nbconvert_exporter": "python",
   "pygments_lexer": "ipython3",
   "version": "3.7.4"
  }
 },
 "nbformat": 4,
 "nbformat_minor": 2
}
