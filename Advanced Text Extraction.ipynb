{
 "cells": [
  {
   "cell_type": "code",
   "execution_count": 1,
   "metadata": {},
   "outputs": [],
   "source": [
    "import numpy as np\n",
    "import pandas as pd\n",
    "import scipy\n",
    "import matplotlib.pyplot as plt\n",
    "import seaborn as sns\n",
    "%matplotlib inline"
   ]
  },
  {
   "cell_type": "markdown",
   "metadata": {},
   "source": [
    "## Comparing LSA, LDA, and NNMF\n",
    "We're going to try 3 different extraction methods on the Emma corpus. We'll be looking at interpretability, speed, and consistency across methods. The goal is to identify common themes in Emma on a per-paragraph basis. We won't be using pLSA as sklearn does not support it.\n",
    "\n",
    "To do this, we will:\n",
    "   * Parse and process the data into a tf-idf matrix.\n",
    "   * Fit LSA, LDA, and NNMF models with 5 topics each.\n",
    "   * Extract the words that best describe each topic.\n",
    "   * Examine the topic relationships for the words 'marriage', 'love', and 'Emma.'\n",
    "   \n",
    "Let's get started!\n",
    "\n",
    "### Generating the tfidf matrix"
   ]
  },
  {
   "cell_type": "code",
   "execution_count": 2,
   "metadata": {},
   "outputs": [
    {
     "data": {
      "text/plain": [
       "['000',\n",
       " '10',\n",
       " '1816',\n",
       " '23rd',\n",
       " '24th',\n",
       " '8th',\n",
       " '_accepted_',\n",
       " '_amor_',\n",
       " '_as_',\n",
       " '_been_',\n",
       " '_bride_',\n",
       " '_broke_',\n",
       " '_court_',\n",
       " '_doubts_',\n",
       " '_eighteen_',\n",
       " '_first_',\n",
       " '_has_',\n",
       " '_have_',\n",
       " '_he_',\n",
       " '_her_',\n",
       " '_him_']"
      ]
     },
     "execution_count": 2,
     "metadata": {},
     "output_type": "execute_result"
    }
   ],
   "source": [
    "# Processing the data.\n",
    "from nltk.corpus import gutenberg\n",
    "import re\n",
    "from sklearn.feature_extraction.text import TfidfVectorizer\n",
    "\n",
    "# Reading in the data in the form of paragraphs\n",
    "emma=gutenberg.paras('austen-emma.txt')\n",
    "\n",
    "# Processing\n",
    "emma_paras=[]\n",
    "for paragraph in emma:\n",
    "    para=paragraph[0] \n",
    "    para=[re.sub(r'--','',word) for word in para] #removing the double-dash from all words\n",
    "    emma_paras.append(' '.join(para)) #forming each paragraph into a string and adding it to the list of strings.\n",
    "\n",
    "# Creating the tf-idf matrix.\n",
    "vectorizer = TfidfVectorizer(stop_words='english')\n",
    "emma_paras_tfidf=vectorizer.fit_transform(emma_paras)\n",
    "\n",
    "# Getting the word list.\n",
    "terms = vectorizer.get_feature_names()\n",
    "\n",
    "# Print out the first 20 features:\n",
    "terms[:21]"
   ]
  },
  {
   "cell_type": "code",
   "execution_count": 3,
   "metadata": {},
   "outputs": [],
   "source": [
    "# Create utility fuctions to extract words:\n",
    "# Number of topics.\n",
    "ntopics=5\n",
    "\n",
    "# Linking words to topics\n",
    "def word_topic(tfidf,solution, wordlist):\n",
    "    words_by_topic=tfidf.T * solution # Loading scores for each word on each topic/component.\n",
    "    components=pd.DataFrame(words_by_topic,index=wordlist) # Linking the loadings to the words in an easy-to-read way. \n",
    "    return components\n",
    "\n",
    "# Extracts the top N words and their loadings for each topic.\n",
    "def top_words(components, n_top_words):\n",
    "    n_topics = range(components.shape[1])\n",
    "    index= np.repeat(n_topics, n_top_words, axis=0)\n",
    "    topwords=pd.Series(index=index)\n",
    "    for column in range(components.shape[1]):      \n",
    "        sortedwords=components.iloc[:,column].sort_values(ascending=False) #Sort the column so that highest loadings are at the top.\n",
    "        chosen=sortedwords[:n_top_words] #Choose the N highest loadings.\n",
    "        chosenlist=chosen.index +\" \"+round(chosen,2).map(str) #Combine loading and index into a string.\n",
    "        topwords.loc[column]=[x for x in chosenlist]\n",
    "    return(topwords)\n",
    "\n",
    "# Number of words to look at for each topic.\n",
    "n_top_words = 10"
   ]
  },
  {
   "cell_type": "markdown",
   "metadata": {},
   "source": [
    "### Fitting the three topic extraction models"
   ]
  },
  {
   "cell_type": "code",
   "execution_count": 4,
   "metadata": {},
   "outputs": [],
   "source": [
    "# LSA\n",
    "\n",
    "from sklearn.decomposition import TruncatedSVD\n",
    "from sklearn.pipeline import make_pipeline\n",
    "from sklearn.preprocessing import Normalizer\n",
    "\n",
    "svd= TruncatedSVD(ntopics)\n",
    "lsa = make_pipeline(svd, Normalizer(copy=False))\n",
    "emma_paras_lsa = lsa.fit_transform(emma_paras_tfidf)\n",
    "\n",
    "components_lsa = word_topic(emma_paras_tfidf, emma_paras_lsa, terms)\n",
    "\n",
    "topwords=pd.DataFrame()\n",
    "topwords['LSA']=top_words(components_lsa, n_top_words)                "
   ]
  },
  {
   "cell_type": "code",
   "execution_count": 9,
   "metadata": {},
   "outputs": [],
   "source": [
    "# LDA\n",
    "from sklearn.decomposition import LatentDirichletAllocation as LDA\n",
    "\n",
    "lda = LDA(n_components=ntopics, \n",
    "          doc_topic_prior=None, # Prior = 1/n_documents\n",
    "          topic_word_prior=1/ntopics,\n",
    "          learning_decay=0.7, # Convergence rate.\n",
    "          learning_offset=10.0, # Causes earlier iterations to have less influence on the learning\n",
    "          max_iter=10, # when to stop even if the model is not converging (to prevent running forever)\n",
    "          evaluate_every=-1, # Do not evaluate perplexity, as it slows training time.\n",
    "          mean_change_tol=0.001, # Stop updating the document topic distribution in the E-step when mean change is < tol\n",
    "          max_doc_update_iter=100, # When to stop updating the document topic distribution in the E-step even if tol is not reached\n",
    "          n_jobs=-1, # Use all available CPUs to speed up processing time.\n",
    "          verbose=0, # amount of output to give while iterating\n",
    "          random_state=0\n",
    "         )\n",
    "\n",
    "emma_paras_lda = lda.fit_transform(emma_paras_tfidf) \n",
    "\n",
    "components_lda = word_topic(emma_paras_tfidf, emma_paras_lda, terms)\n",
    "\n",
    "topwords['LDA']=top_words(components_lda, n_top_words)"
   ]
  },
  {
   "cell_type": "code",
   "execution_count": 10,
   "metadata": {},
   "outputs": [],
   "source": [
    "# NNMF\n",
    "\n",
    "from sklearn.decomposition import NMF\n",
    "\n",
    "nmf = NMF(alpha=0.0, \n",
    "          init='nndsvdar', # how starting value are calculated\n",
    "          l1_ratio=0.0, # Sets whether regularization is L2 (0), L1 (1), or a combination (values between 0 and 1)\n",
    "          max_iter=200, # when to stop even if the model is not converging (to prevent running forever)\n",
    "          n_components=ntopics, \n",
    "          random_state=0, \n",
    "          solver='cd', # Use Coordinate Descent to solve\n",
    "          tol=0.0001, # model will stop if tfidf-WH <= tol\n",
    "          verbose=0 # amount of output to give while iterating\n",
    "         )\n",
    "emma_paras_nmf = nmf.fit_transform(emma_paras_tfidf) \n",
    "\n",
    "components_nmf = word_topic(emma_paras_tfidf, emma_paras_nmf, terms)\n",
    "\n",
    "topwords['NNMF']=top_words(components_nmf, n_top_words)"
   ]
  },
  {
   "cell_type": "markdown",
   "metadata": {},
   "source": [
    "### Inspecting the topics\n",
    "For each topic, we list the ten most-relevant words according to each method:"
   ]
  },
  {
   "cell_type": "code",
   "execution_count": 11,
   "metadata": {},
   "outputs": [
    {
     "name": "stdout",
     "output_type": "stream",
     "text": [
      "Topic 0:\n",
      "               LSA             NNMF            LDA\n",
      "0         oh 97.61         oh 30.12      emma 13.3\n",
      "0         yes 4.79         yes 0.52  harriet 12.73\n",
      "0  difference 1.58       sorry 0.16        mr 11.6\n",
      "0       thank 1.46  difference 0.15      said 10.2\n",
      "0        just 1.44        just 0.12        oh 9.99\n",
      "0     harriet 1.32        papa 0.12     think 9.48\n",
      "0       sorry 1.28        week 0.11       mrs 9.13\n",
      "0       short 1.18       short 0.11   chapter 8.69\n",
      "0        papa 1.14    recollect 0.1     quite 7.79\n",
      "0       cried 1.02      letter 0.09      miss 7.12\n",
      "Topic 1:\n",
      "             LSA            NNMF           LDA\n",
      "1       mr 58.11         mr 7.29      oh 58.31\n",
      "1     emma 58.06        mrs 4.26     emma 19.1\n",
      "1     said 50.31      elton 3.41    said 14.64\n",
      "1      mrs 47.04  knightley 3.24     mrs 14.23\n",
      "1     miss 37.74     weston 3.15      mr 14.19\n",
      "1  harriet 34.65       miss 2.99     yes 13.91\n",
      "1    weston 32.2  woodhouse 2.09     did 10.73\n",
      "1    elton 27.82       said 1.88     miss 9.52\n",
      "1      did 27.54    fairfax 1.84  harriet 8.54\n",
      "1    think 26.83       emma 1.47   weston 8.54\n",
      "Topic 2:\n",
      "             LSA           NNMF             LDA\n",
      "2       ah 31.15       ah 12.89         ah 18.5\n",
      "2      sure 4.14      sure 0.35        mr 12.59\n",
      "2       say 1.04   believe 0.18   chapter 12.51\n",
      "2   believe 0.82       say 0.18      emma 11.46\n",
      "2     sorry 0.81     shake 0.09       miss 10.1\n",
      "2      hands 0.5     hands 0.09        oh 10.01\n",
      "2      shake 0.5     sorry 0.09       said 9.11\n",
      "2    plague 0.49  grievous 0.08     harriet 9.0\n",
      "2  grievous 0.44      come 0.07  woodhouse 7.03\n",
      "2     spring 0.4    taylor 0.07       sure 6.94\n",
      "Topic 3:\n",
      "             LSA           NNMF           LDA\n",
      "3  chapter 33.91  chapter 10.46    emma 11.21\n",
      "3         ii 3.2       iii 0.68       oh 9.85\n",
      "3        iii 3.2        ii 0.68     said 8.62\n",
      "3        iv 2.52       vii 0.66       mr 8.08\n",
      "3       xvi 2.52        xv 0.66     miss 6.76\n",
      "3       xiv 2.52       xvi 0.66     good 5.39\n",
      "3        xv 2.52      xvii 0.66      did 5.32\n",
      "3       vii 2.52     xviii 0.66    shall 5.13\n",
      "3        vi 2.52       xii 0.66  harriet 5.06\n",
      "3       xii 2.52        xi 0.66  fairfax 4.67\n",
      "Topic 4:\n",
      "               LSA          NNMF              LDA\n",
      "4         mr 38.14     emma 9.27         mr 26.02\n",
      "4  knightley 18.77     said 5.84       emma 22.06\n",
      "4      elton 15.16     dear 3.52       said 16.75\n",
      "4       weston 9.6  harriet 2.89        mrs 15.21\n",
      "4         mrs 6.94      yes 2.29       dear 14.42\n",
      "4        john 4.48    think 1.74      elton 13.76\n",
      "4      martin 3.18       mr 1.69     weston 12.42\n",
      "4   woodhouse 3.09      say 1.52  knightley 11.47\n",
      "4   churchill 2.14    thing 1.32          oh 9.82\n",
      "4        idea 1.96     sure 1.27         true 9.0\n"
     ]
    }
   ],
   "source": [
    "for topic in range(ntopics):\n",
    "    print('Topic {}:'.format(topic))\n",
    "    print(topwords.loc[topic])"
   ]
  },
  {
   "cell_type": "markdown",
   "metadata": {},
   "source": [
    "### Sparsity\n",
    "Now let's examine sparsity by looking at the distributions of loadings for the words 'marriage', 'love', 'emma', and 'oh' across the methods:"
   ]
  },
  {
   "cell_type": "code",
   "execution_count": 13,
   "metadata": {},
   "outputs": [
    {
     "data": {
      "image/png": "[encoded data removed]",
      "text/plain": [
       "<Figure size 432x288 with 1 Axes>"
      ]
     },
     "metadata": {},
     "output_type": "display_data"
    },
    {
     "data": {
      "image/png": "[encoded data removed]",
      "text/plain": [
       "<Figure size 432x288 with 1 Axes>"
      ]
     },
     "metadata": {},
     "output_type": "display_data"
    },
    {
     "data": {
      "image/png": "[encoded data removed]",
      "text/plain": [
       "<Figure size 432x288 with 1 Axes>"
      ]
     },
     "metadata": {},
     "output_type": "display_data"
    },
    {
     "data": {
      "image/png": "[encoded data removed]",
      "text/plain": [
       "<Figure size 432x288 with 1 Axes>"
      ]
     },
     "metadata": {},
     "output_type": "display_data"
    }
   ],
   "source": [
    "# The words to look at.\n",
    "targetwords=['marriage','love','emma','oh']\n",
    "\n",
    "# Storing the loadings.\n",
    "wordloadings=pd.DataFrame(columns=targetwords)\n",
    "\n",
    "# For each word, extracting and string the loadings for each method.\n",
    "for word in targetwords:\n",
    "    loadings=components_lsa.loc[word].append(\n",
    "        components_lda.loc[word]).append(\n",
    "            components_nmf.loc[word])\n",
    "    wordloadings[word]=loadings\n",
    "\n",
    "# Labeling the data by method and providing an ordering variable for graphing purposes. \n",
    "wordloadings['method']=np.repeat(['LSA','LDA','NNMF'], 5, axis=0)\n",
    "wordloadings['loading']=[0,1,2,3,4]*3\n",
    "\n",
    "sns.set(style=\"darkgrid\")\n",
    "\n",
    "for word in targetwords:\n",
    "    sns.barplot(x=\"method\", y=word, hue=\"loading\", data=wordloadings)\n",
    "    plt.title(word)\n",
    "    plt.ylabel(\"\")\n",
    "    plt.show()\n",
    "\n"
   ]
  },
  {
   "cell_type": "markdown",
   "metadata": {},
   "source": [
    "LSA is the method most likely to have high loadings on more than one topic for the same word. LDA tends to have one high loading and some lower loadings. Loadings for NNMF are lower all around, and the most sparse, with some of the topics having loadings of zero on each word."
   ]
  }
 ],
 "metadata": {
  "kernelspec": {
   "display_name": "Python 3",
   "language": "python",
   "name": "python3"
  },
  "language_info": {
   "codemirror_mode": {
    "name": "ipython",
    "version": 3
   },
   "file_extension": ".py",
   "mimetype": "text/x-python",
   "name": "python",
   "nbconvert_exporter": "python",
   "pygments_lexer": "ipython3",
   "version": "3.7.4"
  }
 },
 "nbformat": 4,
 "nbformat_minor": 2
}
